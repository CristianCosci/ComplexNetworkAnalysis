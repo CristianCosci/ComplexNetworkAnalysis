{
 "cells": [
  {
   "attachments": {},
   "cell_type": "markdown",
   "metadata": {},
   "source": [
    "import"
   ]
  },
  {
   "cell_type": "code",
   "execution_count": null,
   "metadata": {},
   "outputs": [],
   "source": [
    "import pandas as pd\n",
    "import numpy as np\n",
    "import networkx as nx\n",
    "from netwulf import visualize\n",
    "import matplotlib.pyplot as plt\n",
    "# aggiungere import mancanti"
   ]
  },
  {
   "attachments": {},
   "cell_type": "markdown",
   "metadata": {},
   "source": [
    "caricamento dati"
   ]
  },
  {
   "cell_type": "code",
   "execution_count": null,
   "metadata": {},
   "outputs": [],
   "source": [
    "df = pd.read_csv(PATH_DRIVE)"
   ]
  },
  {
   "attachments": {},
   "cell_type": "markdown",
   "metadata": {},
   "source": [
    "scegliere metodi da testare"
   ]
  },
  {
   "attachments": {},
   "cell_type": "markdown",
   "metadata": {},
   "source": [
    "creazione grafo aggiungendo i link e i vari nodi"
   ]
  },
  {
   "cell_type": "code",
   "execution_count": null,
   "metadata": {},
   "outputs": [],
   "source": [
    "G = nx.Graph()\n",
    "colonne = ['pranzo', 'studiare', 'fuori']\n",
    "for index, utente in df[['ID', 'pranzo']].iterrows():\n",
    "  G.add_node(utente[0])\n",
    "  # print(utente[0], utente[1])\n",
    "  if pd.isna(utente[1]):\n",
    "    continue\n",
    "  link = utente[1].split(' ')\n",
    "  # print(link)\n",
    "  for txt in link:\n",
    "    if txt.isnumeric():\n",
    "      G.add_edge(utente[0], txt)"
   ]
  },
  {
   "attachments": {},
   "cell_type": "markdown",
   "metadata": {},
   "source": [
    "funzione per i top n link"
   ]
  },
  {
   "cell_type": "code",
   "execution_count": null,
   "metadata": {},
   "outputs": [],
   "source": [
    "predicted_adj_matrix = common_neighbors(G)\n",
    "num_nodes = G.number_of_nodes()\n",
    "# Get the edges with the highest predicted probabilities\n",
    "edges = []\n",
    "for i in range(num_nodes):\n",
    "    for j in range(i + 1, num_nodes):\n",
    "        prob = predicted_adj_matrix[i, j]\n",
    "        edges.append((i, j, prob))\n",
    "\n",
    "edges = sorted(edges, key=lambda x: x[2], reverse=True)[:100]\n",
    "\n",
    "new_link = []\n",
    "for edge in edges:\n",
    "    print(f\"({name_index_map[edge[0]][0]}, {name_index_map[edge[1]][0]}) - Similarity: {edge[2]:.2f}\")\n",
    "    new_link.append((name_index_map[edge[0]][0], name_index_map[edge[1]][0]))"
   ]
  },
  {
   "attachments": {},
   "cell_type": "markdown",
   "metadata": {},
   "source": [
    "stampo il grafo originale"
   ]
  },
  {
   "cell_type": "code",
   "execution_count": null,
   "metadata": {},
   "outputs": [],
   "source": [
    "plt.figure(figsize=(16, 9), dpi=80)\n",
    "pos_attrs = {}\n",
    "circPos = nx.shell_layout(G)\n",
    "for node, coords in circPos.items():\n",
    "    pos_attrs[node] = (coords[0]+0.01, coords[1]-.05)\n",
    "nx.draw_networkx_labels(G,pos=circPos) \n",
    "nx.draw(G,pos=pos_attrs, node_size=40)"
   ]
  },
  {
   "cell_type": "code",
   "execution_count": null,
   "metadata": {},
   "outputs": [],
   "source": [
    "G_new = copy.deepcopy(G)"
   ]
  },
  {
   "attachments": {},
   "cell_type": "markdown",
   "metadata": {},
   "source": [
    "aggiungo nodo in più colorato"
   ]
  },
  {
   "cell_type": "code",
   "execution_count": null,
   "metadata": {},
   "outputs": [],
   "source": [
    "# G_new.add_edges_from(new_link, color='r')\n",
    "G_new.add_edge(new_link[0][0],new_link[0][1],color='r')\n",
    "colors = [G_new[u][v].get('color','black') for u,v in G.edges()]"
   ]
  },
  {
   "attachments": {},
   "cell_type": "markdown",
   "metadata": {},
   "source": [
    "plot nuovo grafo"
   ]
  },
  {
   "cell_type": "code",
   "execution_count": null,
   "metadata": {},
   "outputs": [],
   "source": [
    "plt.figure(figsize=(16, 9), dpi=80)\n",
    "pos_attrs = {}\n",
    "circPos = nx.shell_layout(G_new)\n",
    "for node, coords in circPos.items():\n",
    "    pos_attrs[node] = (coords[0]+0.01, coords[1]-.05)\n",
    "nx.draw_networkx_labels(G_new,pos=circPos) \n",
    "nx.draw(G_new,pos=pos_attrs, node_size=40, edge_color=colors)"
   ]
  },
  {
   "cell_type": "code",
   "execution_count": null,
   "metadata": {},
   "outputs": [],
   "source": [
    "plt.figure(figsize=(16, 9), dpi=80)\n",
    "pos_attrs = {}\n",
    "circPos = nx.spring_layout(G_new)\n",
    "for node, coords in circPos.items():\n",
    "    pos_attrs[node] = (coords[0]+0.01, coords[1]-.05)\n",
    "nx.draw_networkx_labels(G_new,pos=circPos) \n",
    "nx.draw(G_new,pos=pos_attrs, node_size=40, edge_color=colors)"
   ]
  }
 ],
 "metadata": {
  "kernelspec": {
   "display_name": "prova",
   "language": "python",
   "name": "python3"
  },
  "language_info": {
   "codemirror_mode": {
    "name": "ipython",
    "version": 3
   },
   "file_extension": ".py",
   "mimetype": "text/x-python",
   "name": "python",
   "nbconvert_exporter": "python",
   "pygments_lexer": "ipython3",
   "version": "3.10.6"
  },
  "orig_nbformat": 4
 },
 "nbformat": 4,
 "nbformat_minor": 2
}
